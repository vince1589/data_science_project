{
 "cells": [
  {
   "cell_type": "markdown",
   "metadata": {},
   "source": [
    "# Apple stock value"
   ]
  },
  {
   "cell_type": "markdown",
   "metadata": {},
   "source": [
    "One of my friends received a coding challenge for a job interview that asked him to develop a strategy to predict weekly change in Apple stock value and whether to invest, short or do nothing. I tried a few data science/ML trick to see if I could help. Moreover, instead of just having a prediction, I tried to have a confidence interval in the prediction, so that there is a way to incorporate risk in the strategy.\n",
    "\n",
    "Without any surprise, this is an extremely challenging problem and I didn't have any much success. If I did, I wouldn't be here right now...."
   ]
  },
  {
   "cell_type": "markdown",
   "metadata": {},
   "source": [
    "##### Load libraries"
   ]
  },
  {
   "cell_type": "code",
   "execution_count": 1,
   "metadata": {},
   "outputs": [
    {
     "name": "stdout",
     "output_type": "stream",
     "text": [
      "Populating the interactive namespace from numpy and matplotlib\n"
     ]
    }
   ],
   "source": [
    "import pandas as pd\n",
    "import numpy as np\n",
    "%pylab inline\n",
    "%matplotlib inline"
   ]
  },
  {
   "cell_type": "markdown",
   "metadata": {},
   "source": [
    "##### Load historic data\n",
    "I have Apple stock and SPYweekly change  "
   ]
  },
  {
   "cell_type": "code",
   "execution_count": 2,
   "metadata": {
    "collapsed": true
   },
   "outputs": [],
   "source": [
    "df = pd.read_excel(\"/media/vince/datascience/daniel_finance/ISA_Round Table Data Set.xlsx\")"
   ]
  },
  {
   "cell_type": "code",
   "execution_count": 3,
   "metadata": {},
   "outputs": [
    {
     "data": {
      "text/html": [
       "<div>\n",
       "<style>\n",
       "    .dataframe thead tr:only-child th {\n",
       "        text-align: right;\n",
       "    }\n",
       "\n",
       "    .dataframe thead th {\n",
       "        text-align: left;\n",
       "    }\n",
       "\n",
       "    .dataframe tbody tr th {\n",
       "        vertical-align: top;\n",
       "    }\n",
       "</style>\n",
       "<table border=\"1\" class=\"dataframe\">\n",
       "  <thead>\n",
       "    <tr style=\"text-align: right;\">\n",
       "      <th></th>\n",
       "      <th>Apple</th>\n",
       "      <th>SPY</th>\n",
       "    </tr>\n",
       "  </thead>\n",
       "  <tbody>\n",
       "    <tr>\n",
       "      <th>1993-02-06</th>\n",
       "      <td>-3.781495</td>\n",
       "      <td>2.345901</td>\n",
       "    </tr>\n",
       "    <tr>\n",
       "      <th>1993-02-13</th>\n",
       "      <td>-5.685598</td>\n",
       "      <td>-0.833937</td>\n",
       "    </tr>\n",
       "    <tr>\n",
       "      <th>1993-02-20</th>\n",
       "      <td>2.088162</td>\n",
       "      <td>-2.312496</td>\n",
       "    </tr>\n",
       "    <tr>\n",
       "      <th>1993-02-27</th>\n",
       "      <td>-3.636354</td>\n",
       "      <td>1.936864</td>\n",
       "    </tr>\n",
       "    <tr>\n",
       "      <th>1993-03-06</th>\n",
       "      <td>3.773575</td>\n",
       "      <td>0.774144</td>\n",
       "    </tr>\n",
       "  </tbody>\n",
       "</table>\n",
       "</div>"
      ],
      "text/plain": [
       "               Apple       SPY\n",
       "1993-02-06 -3.781495  2.345901\n",
       "1993-02-13 -5.685598 -0.833937\n",
       "1993-02-20  2.088162 -2.312496\n",
       "1993-02-27 -3.636354  1.936864\n",
       "1993-03-06  3.773575  0.774144"
      ]
     },
     "execution_count": 3,
     "metadata": {},
     "output_type": "execute_result"
    }
   ],
   "source": [
    "df.head()"
   ]
  },
  {
   "cell_type": "markdown",
   "metadata": {},
   "source": [
    "##### Look at stock variation over time"
   ]
  },
  {
   "cell_type": "code",
   "execution_count": 4,
   "metadata": {},
   "outputs": [
    {
     "data": {
      "image/png": "[encoded data removed]",
      "text/plain": [
       "<matplotlib.figure.Figure at 0x7f1d5f76f6d0>"
      ]
     },
     "metadata": {},
     "output_type": "display_data"
    }
   ],
   "source": [
    "plt.plot(range(0,len(df)),df[\"Apple\"])\n",
    "plt.ylabel(\"Apple stock variation (%)\")\n",
    "plt.xlabel(\"Week\")\n",
    "plt.show()"
   ]
  },
  {
   "cell_type": "markdown",
   "metadata": {},
   "source": [
    "For each stock entry, look at the previous week change. It is not clear how far back we should look, so I tried from 1 week to the previous 100 week"
   ]
  },
  {
   "cell_type": "code",
   "execution_count": 5,
   "metadata": {
    "collapsed": true
   },
   "outputs": [],
   "source": [
    "for i in range(1,100):\n",
    "    df[\"Apple-\"+str(i)] = list(df[\"Apple\"][i:])+[NaN]*i\n",
    "    #df[\"SPY-\"+str(i)] = list(df[\"SPY\"][i:])+[NaN]*i"
   ]
  },
  {
   "cell_type": "markdown",
   "metadata": {},
   "source": [
    "Look at the correlation between Apple stock and previous week"
   ]
  },
  {
   "cell_type": "code",
   "execution_count": 6,
   "metadata": {},
   "outputs": [
    {
     "name": "stdout",
     "output_type": "stream",
     "text": [
      "Apple       1.000000\n",
      "SPY         0.393208\n",
      "Apple-52    0.070943\n",
      "Apple-9     0.063531\n",
      "Apple-1     0.061248\n",
      "Apple-3     0.059113\n",
      "Apple-51    0.053933\n",
      "Apple-10    0.050829\n",
      "Apple-88    0.050449\n",
      "Apple-16    0.043125\n",
      "Name: Apple, dtype: float64\n",
      "Apple-56   -0.034827\n",
      "Apple-38   -0.035363\n",
      "Apple-66   -0.037915\n",
      "Apple-12   -0.038243\n",
      "Apple-59   -0.042691\n",
      "Apple-60   -0.045286\n",
      "Apple-55   -0.057285\n",
      "Apple-54   -0.060719\n",
      "Apple-30   -0.062149\n",
      "Apple-14   -0.084735\n",
      "Name: Apple, dtype: float64\n"
     ]
    }
   ],
   "source": [
    "cors = df.corr()[\"Apple\"].sort_values(ascending=False)\n",
    "print(cors.head(10))\n",
    "print(cors.tail(10))\n"
   ]
  },
  {
   "cell_type": "code",
   "execution_count": 7,
   "metadata": {
    "scrolled": false
   },
   "outputs": [
    {
     "name": "stdout",
     "output_type": "stream",
     "text": [
      "Apple\n"
     ]
    },
    {
     "data": {
      "image/png": "[encoded data removed]",
      "text/plain": [
       "<matplotlib.figure.Figure at 0x7f1d59ec2a90>"
      ]
     },
     "metadata": {},
     "output_type": "display_data"
    },
    {
     "name": "stdout",
     "output_type": "stream",
     "text": [
      "SPY\n"
     ]
    },
    {
     "data": {
      "image/png": "[encoded data removed]",
      "text/plain": [
       "<matplotlib.figure.Figure at 0x7f1d59e1eb50>"
      ]
     },
     "metadata": {},
     "output_type": "display_data"
    },
    {
     "name": "stdout",
     "output_type": "stream",
     "text": [
      "Apple-14\n"
     ]
    },
    {
     "data": {
      "image/png": "[encoded data removed]",
      "text/plain": [
       "<matplotlib.figure.Figure at 0x7f1d59d5cd90>"
      ]
     },
     "metadata": {},
     "output_type": "display_data"
    },
    {
     "name": "stdout",
     "output_type": "stream",
     "text": [
      "Apple-52\n"
     ]
    },
    {
     "data": {
      "image/png": "[encoded data removed]",
      "text/plain": [
       "<matplotlib.figure.Figure at 0x7f1d59c25550>"
      ]
     },
     "metadata": {},
     "output_type": "display_data"
    },
    {
     "name": "stdout",
     "output_type": "stream",
     "text": [
      "Apple-9\n"
     ]
    },
    {
     "data": {
      "image/png": "[encoded data removed]",
      "text/plain": [
       "<matplotlib.figure.Figure at 0x7f1d59bd8a90>"
      ]
     },
     "metadata": {},
     "output_type": "display_data"
    }
   ],
   "source": [
    "cors = df.corr().abs()[\"Apple\"].sort_values(ascending=False)\n",
    "for (lab,val) in zip(list(cors.index),cors.values)[0:5]:\n",
    "    print(lab)\n",
    "    plt.scatter(df[lab],df[\"Apple\"],s=5)\n",
    "    plt.xlabel(lab)\n",
    "    plt.ylabel(\"Apple\")\n",
    "    plt.title(\"Cor = %.2f\" % (val))\n",
    "    plt.axhline(0)\n",
    "    plt.axvline(0)\n",
    "    plt.show()"
   ]
  },
  {
   "cell_type": "markdown",
   "metadata": {},
   "source": [
    "Obviously, nothing correlate with the stock change. Trend might be more subtle"
   ]
  },
  {
   "cell_type": "code",
   "execution_count": 8,
   "metadata": {
    "collapsed": true
   },
   "outputs": [],
   "source": [
    "from sklearn import linear_model\n",
    "from sklearn.metrics import mean_squared_error, r2_score"
   ]
  },
  {
   "cell_type": "markdown",
   "metadata": {},
   "source": [
    "I will build some ML models. \n",
    "\n",
    "I have 1287 weeks of data. I will train/test on the 800 first week to find hyperparameter and then used the remaining 487 weeks has a holdout set to see how well my model would perform in real life."
   ]
  },
  {
   "cell_type": "code",
   "execution_count": 9,
   "metadata": {},
   "outputs": [
    {
     "name": "stdout",
     "output_type": "stream",
     "text": [
      "1287\n",
      "(400, 487)\n"
     ]
    }
   ],
   "source": [
    "print(len(df))\n",
    "trainexp = 800\n",
    "\n",
    "dftotrain = df.head(trainexp).tail(trainexp/2)\n",
    "dftotest = df.tail(len(df)-trainexp)\n",
    "print(len(dftotrain),len(dftotest))"
   ]
  },
  {
   "cell_type": "markdown",
   "metadata": {},
   "source": [
    "I will first try some simple bayesian linear regression using previous week data"
   ]
  },
  {
   "cell_type": "code",
   "execution_count": null,
   "metadata": {
    "collapsed": true
   },
   "outputs": [],
   "source": []
  },
  {
   "cell_type": "code",
   "execution_count": 10,
   "metadata": {
    "scrolled": false
   },
   "outputs": [
    {
     "data": {
      "image/png": "[encoded data removed]",
      "text/plain": [
       "<matplotlib.figure.Figure at 0x7f1d4e83ee50>"
      ]
     },
     "metadata": {},
     "output_type": "display_data"
    }
   ],
   "source": [
    "#Predict using values in past weeks\n",
    "regr = linear_model.BayesianRidge()\n",
    "topred = \"Apple\"\n",
    "lab = \"Apple\"\n",
    "\n",
    "AllPerformance = dict()\n",
    "AllPerformance[topred+\"_train\"] = dict()\n",
    "AllPerformance[topred+\"_test\"] = dict()\n",
    "\n",
    "ModelName = \"LinearRegression\"\n",
    "\n",
    "#Use 2 to 100 previous weeks\n",
    "for i in range(2,100):\n",
    "    xt = []\n",
    "    for k in range(1,i):\n",
    "        x = list(dftotrain[lab])[i-k:-k]\n",
    "        xt.append(x)\n",
    "    xt = np.array(xt)\n",
    "    xt = np.transpose(xt)\n",
    "    y = np.array(list(dftotrain[topred])[i:])\n",
    "    regr.fit(xt,y)\n",
    "    ypred = regr.predict(xt)\n",
    "    cor = np.corrcoef(ypred,y)[0][1]\n",
    "    #if cor > 0.29:\n",
    "    #    plt.scatter(ypred,y)\n",
    "    #    plt.show()\n",
    "    NowModel = ModelName +\" _weeks\"+str(i)\n",
    "    AllPerformance[topred+\"_train\"][NowModel] = cor\n",
    "    plt.scatter(i,cor,c=\"black\")\n",
    "\n",
    "\n",
    "    xt = []\n",
    "    for k in range(1,i):\n",
    "        x = list(dftotest[lab])[i-k:-k]\n",
    "        xt.append(x)\n",
    "    xt = np.array(xt)\n",
    "    xt = np.transpose(xt)\n",
    "    y = np.array(list(dftotest[topred])[i:])\n",
    "\n",
    "    [ypred,std] = regr.predict(xt,return_std=True)\n",
    "    cor = np.corrcoef(ypred,y)[0][1]\n",
    "    #if cor > 0.29:\n",
    "    #    plt.scatter(ypred,y)\n",
    "    #    plt.show()\n",
    "    AllPerformance[topred+\"_test\"][NowModel] = cor\n",
    "    plt.scatter(i,cor,c=\"red\")\n",
    "    #print(np.min(std))\n",
    "plt.xlabel(lab+\" Weeks\")\n",
    "plt.ylabel(\"Cor to \"+topred)\n",
    "plt.show()\n"
   ]
  },
  {
   "cell_type": "markdown",
   "metadata": {},
   "source": [
    "Black is training dataset and red is testing\n",
    "Model overfit!\n",
    "\n",
    "Will use polynomial model"
   ]
  },
  {
   "cell_type": "code",
   "execution_count": 11,
   "metadata": {
    "collapsed": true
   },
   "outputs": [],
   "source": [
    "from sklearn.preprocessing import PolynomialFeatures\n",
    "from sklearn.pipeline import Pipeline\n",
    "from sklearn.linear_model import LinearRegression"
   ]
  },
  {
   "cell_type": "code",
   "execution_count": 12,
   "metadata": {
    "scrolled": false
   },
   "outputs": [
    {
     "data": {
      "image/png": "[encoded data removed]",
      "text/plain": [
       "<matplotlib.figure.Figure at 0x7f1d9cf8bcd0>"
      ]
     },
     "metadata": {},
     "output_type": "display_data"
    },
    {
     "data": {
      "image/png": "[encoded data removed]",
      "text/plain": [
       "<matplotlib.figure.Figure at 0x7f1d45460890>"
      ]
     },
     "metadata": {},
     "output_type": "display_data"
    },
    {
     "data": {
      "image/png": "[encoded data removed]",
      "text/plain": [
       "<matplotlib.figure.Figure at 0x7f1d458dfb90>"
      ]
     },
     "metadata": {},
     "output_type": "display_data"
    }
   ],
   "source": [
    "#Predict using values in past weeks\n",
    "for d in range(2,5):\n",
    "    regr = Pipeline([('poly', PolynomialFeatures(degree=d)), ('linear', LinearRegression(fit_intercept=False))])\n",
    "    ModelName = \"Poly\"+str(d)\n",
    "    for i in range(2,50):\n",
    "        xt = []\n",
    "        for k in range(1,i):\n",
    "            x = list(dftotrain[lab])[i-k:-k]\n",
    "            xt.append(x)\n",
    "        xt = np.array(xt)\n",
    "        xt = np.transpose(xt)\n",
    "        y = np.array(list(dftotrain[topred])[i:])\n",
    "        regr.fit(xt,y)\n",
    "        ypred = regr.predict(xt)\n",
    "        cor = np.corrcoef(ypred,y)[0][1]\n",
    "\n",
    "        NowModel = ModelName +\" _weeks\"+str(i)\n",
    "        AllPerformance[topred+\"_train\"][NowModel] = cor\n",
    "        plt.scatter(i,cor,c=\"black\")\n",
    "\n",
    "\n",
    "        xt = []\n",
    "        for k in range(1,i):\n",
    "            x = list(dftotest[lab])[i-k:-k]\n",
    "            xt.append(x)\n",
    "        xt = np.array(xt)\n",
    "        xt = np.transpose(xt)\n",
    "        y = np.array(list(dftotest[topred])[i:])\n",
    "\n",
    "        ypred = regr.predict(xt)\n",
    "        cor = np.corrcoef(ypred,y)[0][1]\n",
    "        #if cor > 0.29:\n",
    "        #    plt.scatter(ypred,y)\n",
    "        #    plt.show()\n",
    "        AllPerformance[topred+\"_test\"][NowModel] = cor\n",
    "        plt.scatter(i,cor,c=\"red\")\n",
    "\n",
    "    plt.title(ModelName)\n",
    "    plt.xlabel(lab+\" Weeks\")\n",
    "    plt.ylabel(\"Cor to \"+topred)\n",
    "    plt.show()\n"
   ]
  },
  {
   "cell_type": "markdown",
   "metadata": {},
   "source": [
    "Model overfit!"
   ]
  },
  {
   "cell_type": "code",
   "execution_count": 13,
   "metadata": {
    "collapsed": true
   },
   "outputs": [],
   "source": [
    "from sklearn.neighbors import KNeighborsRegressor"
   ]
  },
  {
   "cell_type": "code",
   "execution_count": 14,
   "metadata": {
    "scrolled": false
   },
   "outputs": [
    {
     "data": {
      "image/png": "[encoded data removed]",
      "text/plain": [
       "<matplotlib.figure.Figure at 0x7f1d4e84a490>"
      ]
     },
     "metadata": {},
     "output_type": "display_data"
    }
   ],
   "source": [
    "#Predict using values in past weeks\n",
    "\n",
    "ModelName = \"KNeighborsRegressor\"\n",
    "for i in range(2,50):\n",
    "    for nn in range(2,10):\n",
    "        xt = []\n",
    "        for k in range(1,i):\n",
    "            x = list(dftotrain[lab])[i-k:-k]\n",
    "            xt.append(x)\n",
    "        xt = np.array(xt)\n",
    "        xt = np.transpose(xt)\n",
    "        y = np.array(list(dftotrain[topred])[i:])\n",
    "\n",
    "        neigh = KNeighborsRegressor(n_neighbors=nn)\n",
    "        neigh.fit(xt,y)\n",
    "        ypred = neigh.predict(xt)\n",
    "        cor = np.corrcoef(ypred,y)[0][1]\n",
    "        NowModel = ModelName +\"NN\"+str(nn)+\" _weeks\"+str(i)\n",
    "        AllPerformance[topred+\"_train\"][NowModel] = cor\n",
    "        plt.scatter(i,cor,c=\"black\")\n",
    "\n",
    "\n",
    "        xtt = []\n",
    "        for k in range(1,i):\n",
    "            x = list(dftotest[lab])[i-k:-k]\n",
    "            xtt.append(x)\n",
    "        xtt = np.array(xtt)\n",
    "        xtt = np.transpose(xtt)\n",
    "        ytt = np.array(list(dftotest[topred])[i:])\n",
    "\n",
    "        ypred = neigh.predict(xtt)\n",
    "        cor = np.corrcoef(ypred,ytt)[0][1]\n",
    "        #if cor > 0.29:\n",
    "        #    plt.scatter(ypred,y)\n",
    "        #    plt.show()\n",
    "        AllPerformance[topred+\"_test\"][NowModel] = cor\n",
    "        plt.scatter(i,cor,c=\"red\")\n",
    "\n",
    "        dist = neigh.kneighbors(xtt)\n",
    "        AllSTD = []\n",
    "        for (ypreds) in zip(y[dist[1]]):\n",
    "            AllSTD.append(np.std(ypreds))\n",
    "        AllSTD = np.array(AllSTD)\n",
    "        ind = np.argsort(AllSTD)\n",
    "        top10per = int(len(ytt)/10)\n",
    "        subcor = np.corrcoef(ypred[ind[0:top10per]],ytt[ind[0:top10per]])[0][1]\n",
    "        plt.scatter(i,subcor,c=\"green\")\n",
    "\n",
    "plt.xlabel(lab+\" Weeks\")\n",
    "plt.ylabel(\"Cor to \"+topred)\n",
    "plt.show()\n"
   ]
  },
  {
   "cell_type": "code",
   "execution_count": 15,
   "metadata": {},
   "outputs": [
    {
     "data": {
      "text/html": [
       "<div>\n",
       "<style>\n",
       "    .dataframe thead tr:only-child th {\n",
       "        text-align: right;\n",
       "    }\n",
       "\n",
       "    .dataframe thead th {\n",
       "        text-align: left;\n",
       "    }\n",
       "\n",
       "    .dataframe tbody tr th {\n",
       "        vertical-align: top;\n",
       "    }\n",
       "</style>\n",
       "<table border=\"1\" class=\"dataframe\">\n",
       "  <thead>\n",
       "    <tr style=\"text-align: right;\">\n",
       "      <th></th>\n",
       "      <th>Apple_test</th>\n",
       "      <th>Apple_train</th>\n",
       "    </tr>\n",
       "  </thead>\n",
       "  <tbody>\n",
       "    <tr>\n",
       "      <th>KNeighborsRegressorNN4 _weeks9</th>\n",
       "      <td>0.126873</td>\n",
       "      <td>0.507389</td>\n",
       "    </tr>\n",
       "    <tr>\n",
       "      <th>Poly4 _weeks11</th>\n",
       "      <td>0.122188</td>\n",
       "      <td>1.000000</td>\n",
       "    </tr>\n",
       "    <tr>\n",
       "      <th>Poly3 _weeks15</th>\n",
       "      <td>0.111397</td>\n",
       "      <td>1.000000</td>\n",
       "    </tr>\n",
       "    <tr>\n",
       "      <th>Poly2 _weeks14</th>\n",
       "      <td>0.106634</td>\n",
       "      <td>0.509336</td>\n",
       "    </tr>\n",
       "    <tr>\n",
       "      <th>Poly4 _weeks49</th>\n",
       "      <td>0.103409</td>\n",
       "      <td>1.000000</td>\n",
       "    </tr>\n",
       "    <tr>\n",
       "      <th>Poly2 _weeks15</th>\n",
       "      <td>0.102466</td>\n",
       "      <td>0.575569</td>\n",
       "    </tr>\n",
       "    <tr>\n",
       "      <th>LinearRegression _weeks20</th>\n",
       "      <td>0.100182</td>\n",
       "      <td>0.217220</td>\n",
       "    </tr>\n",
       "    <tr>\n",
       "      <th>Poly4 _weeks48</th>\n",
       "      <td>0.099015</td>\n",
       "      <td>1.000000</td>\n",
       "    </tr>\n",
       "    <tr>\n",
       "      <th>Poly3 _weeks13</th>\n",
       "      <td>0.098546</td>\n",
       "      <td>1.000000</td>\n",
       "    </tr>\n",
       "    <tr>\n",
       "      <th>KNeighborsRegressorNN6 _weeks5</th>\n",
       "      <td>0.098343</td>\n",
       "      <td>0.384708</td>\n",
       "    </tr>\n",
       "    <tr>\n",
       "      <th>Poly2 _weeks13</th>\n",
       "      <td>0.095940</td>\n",
       "      <td>0.475363</td>\n",
       "    </tr>\n",
       "    <tr>\n",
       "      <th>KNeighborsRegressorNN5 _weeks10</th>\n",
       "      <td>0.093337</td>\n",
       "      <td>0.411501</td>\n",
       "    </tr>\n",
       "    <tr>\n",
       "      <th>LinearRegression _weeks22</th>\n",
       "      <td>0.087917</td>\n",
       "      <td>0.227776</td>\n",
       "    </tr>\n",
       "    <tr>\n",
       "      <th>Poly4 _weeks47</th>\n",
       "      <td>0.087353</td>\n",
       "      <td>1.000000</td>\n",
       "    </tr>\n",
       "    <tr>\n",
       "      <th>LinearRegression _weeks21</th>\n",
       "      <td>0.087205</td>\n",
       "      <td>0.227598</td>\n",
       "    </tr>\n",
       "    <tr>\n",
       "      <th>LinearRegression _weeks19</th>\n",
       "      <td>0.087057</td>\n",
       "      <td>0.185559</td>\n",
       "    </tr>\n",
       "    <tr>\n",
       "      <th>KNeighborsRegressorNN5 _weeks5</th>\n",
       "      <td>0.086489</td>\n",
       "      <td>0.443565</td>\n",
       "    </tr>\n",
       "    <tr>\n",
       "      <th>KNeighborsRegressorNN7 _weeks5</th>\n",
       "      <td>0.085057</td>\n",
       "      <td>0.383274</td>\n",
       "    </tr>\n",
       "    <tr>\n",
       "      <th>LinearRegression _weeks23</th>\n",
       "      <td>0.084513</td>\n",
       "      <td>0.229216</td>\n",
       "    </tr>\n",
       "    <tr>\n",
       "      <th>KNeighborsRegressorNN2 _weeks16</th>\n",
       "      <td>0.079568</td>\n",
       "      <td>0.706253</td>\n",
       "    </tr>\n",
       "  </tbody>\n",
       "</table>\n",
       "</div>"
      ],
      "text/plain": [
       "                                 Apple_test  Apple_train\n",
       "KNeighborsRegressorNN4 _weeks9     0.126873     0.507389\n",
       "Poly4 _weeks11                     0.122188     1.000000\n",
       "Poly3 _weeks15                     0.111397     1.000000\n",
       "Poly2 _weeks14                     0.106634     0.509336\n",
       "Poly4 _weeks49                     0.103409     1.000000\n",
       "Poly2 _weeks15                     0.102466     0.575569\n",
       "LinearRegression _weeks20          0.100182     0.217220\n",
       "Poly4 _weeks48                     0.099015     1.000000\n",
       "Poly3 _weeks13                     0.098546     1.000000\n",
       "KNeighborsRegressorNN6 _weeks5     0.098343     0.384708\n",
       "Poly2 _weeks13                     0.095940     0.475363\n",
       "KNeighborsRegressorNN5 _weeks10    0.093337     0.411501\n",
       "LinearRegression _weeks22          0.087917     0.227776\n",
       "Poly4 _weeks47                     0.087353     1.000000\n",
       "LinearRegression _weeks21          0.087205     0.227598\n",
       "LinearRegression _weeks19          0.087057     0.185559\n",
       "KNeighborsRegressorNN5 _weeks5     0.086489     0.443565\n",
       "KNeighborsRegressorNN7 _weeks5     0.085057     0.383274\n",
       "LinearRegression _weeks23          0.084513     0.229216\n",
       "KNeighborsRegressorNN2 _weeks16    0.079568     0.706253"
      ]
     },
     "execution_count": 15,
     "metadata": {},
     "output_type": "execute_result"
    }
   ],
   "source": [
    "pd.DataFrame(AllPerformance).sort_values(\"Apple_test\",ascending=False).head(20)"
   ]
  },
  {
   "cell_type": "markdown",
   "metadata": {
    "collapsed": true
   },
   "source": [
    "The top models achieve only a 0.12 of correlation on the test set. Model tend to overfit as well. This is an incredibly hard challenge and we are working with only a fraction of available feature\n",
    "\n",
    "Nonetheless, it was a good coding exercise!!"
   ]
  },
  {
   "cell_type": "markdown",
   "metadata": {
    "collapsed": true
   },
   "source": [
    "#### More data!\n",
    "\n",
    "My friend gave me more data to work with and we also tried to define an investment strategy"
   ]
  },
  {
   "cell_type": "code",
   "execution_count": 16,
   "metadata": {
    "collapsed": true
   },
   "outputs": [],
   "source": [
    "df = pd.read_excel(\"/media/vince/datascience/daniel_finance/more_data.xlsx\")\n",
    "df = df.dropna()\n",
    "df = df * 100.0"
   ]
  },
  {
   "cell_type": "code",
   "execution_count": 17,
   "metadata": {},
   "outputs": [
    {
     "name": "stdout",
     "output_type": "stream",
     "text": [
      "(212, 52, 100, 364, 365)\n"
     ]
    }
   ],
   "source": [
    "BenchMarkSize = 100\n",
    "TrainingPercentage = 0.80\n",
    "\n",
    "#Make all set\n",
    "\n",
    "BenchDF = df.tail(BenchMarkSize)\n",
    "SizeOfTrainingAndTesting = len(df)-BenchMarkSize\n",
    "\n",
    "TrainingDF = df.head(int(TrainingPercentage*SizeOfTrainingAndTesting))\n",
    "\n",
    "TestingDF = df.head(int(SizeOfTrainingAndTesting)).tail(int(SizeOfTrainingAndTesting*(1-TrainingPercentage)))\n",
    "\n",
    "\n",
    "print(len(TrainingDF),len(TestingDF),len(BenchDF),len(TrainingDF)+len(TestingDF)+len(BenchDF),len(df))"
   ]
  },
  {
   "cell_type": "code",
   "execution_count": 18,
   "metadata": {
    "collapsed": true
   },
   "outputs": [],
   "source": [
    "def FormatData(df,w,ToPredict,ToUse,MaxWeek = 0):\n",
    "    \n",
    "    dftouse = df.tail(len(df)-MaxWeek+w)\n",
    "    \n",
    "    Yt = []\n",
    "    Xt = []\n",
    "    AllY = list(dftouse[ToPredict])\n",
    "\n",
    "\n",
    "    for k in range(w,len(dftouse)):\n",
    "        #print(k,AllY[k])\n",
    "\n",
    "        xtemp = []\n",
    "        for lab in ToUse:\n",
    "            Subx = list(dftouse[lab])[k-w:k]\n",
    "            xtemp.append(Subx)\n",
    "        Xt.append(np.ravel(xtemp))\n",
    "        Yt.append(AllY[k])\n",
    "    return(Xt,np.array(Yt))"
   ]
  },
  {
   "cell_type": "code",
   "execution_count": 19,
   "metadata": {
    "scrolled": false
   },
   "outputs": [
    {
     "data": {
      "image/png": "[encoded data removed]",
      "text/plain": [
       "<matplotlib.figure.Figure at 0x7f1d4431dc50>"
      ]
     },
     "metadata": {},
     "output_type": "display_data"
    },
    {
     "data": {
      "image/png": "[encoded data removed]",
      "text/plain": [
       "<matplotlib.figure.Figure at 0x7f1d44121690>"
      ]
     },
     "metadata": {},
     "output_type": "display_data"
    },
    {
     "name": "stdout",
     "output_type": "stream",
     "text": [
      "(-0.18477826937445568, 0.0, 16)\n",
      "(-0.14573439496430876, 0.69999999999999996, 1)\n",
      "(0.0, 0.80000000000000004, 0)\n",
      "(0.046469863156645308, 0.0, 16)\n",
      "(0.41629126124827714, 0.20000000000000001, 8)\n",
      "(0.60494300069117446, 0.20000000000000001, 7)\n",
      "(0.79943974009178431, 0.10000000000000001, 14)\n",
      "(1.1894052714415617, 0.20000000000000001, 10)\n",
      "(1.4691216864105177, 0.20000000000000001, 14)\n",
      "(1.855340699877893, 0.0, 16)\n"
     ]
    }
   ],
   "source": [
    "from sklearn.preprocessing import scale\n",
    "StockToPredict = \"APPL\"\n",
    "\n",
    "figsize(5,5)\n",
    "plt.hist(BenchDF[StockToPredict])\n",
    "plt.show()\n",
    "plt.hist(TrainingDF[StockToPredict])\n",
    "plt.show()\n",
    "\n",
    "DataToUse = list(df.columns)[1:]\n",
    "\n",
    "WeeksToUse = range(2,50)\n",
    "NNToUse = range(1,50)\n",
    "\n",
    "WeeksToUse = np.array(range(1,10))*4\n",
    "NNToUse = np.array(range(1,20))*5\n",
    "#NNTpUse = range(2,4)\n",
    "#WeeksToUse = range(10,11)\n",
    "\n",
    "AllPerformance = dict()\n",
    "\n",
    "BestModel = []\n",
    "BestVal = -10\n",
    "\n",
    "c = 0\n",
    "for ToScale in [0,1]:\n",
    "    for w in WeeksToUse:\n",
    "\n",
    "        [Xt,Yt] = FormatData(TrainingDF,w,StockToPredict,DataToUse,MaxWeek = np.max(WeeksToUse))\n",
    "        #Need to to some magick so that alway start same time given different W\n",
    "        [X,Y] = FormatData(TestingDF,w,StockToPredict,DataToUse,MaxWeek = np.max(WeeksToUse))\n",
    "\n",
    "        #Need to to some magick so that alway start same time given different W\n",
    "        [oX,oY] = FormatData(BenchDF,w,StockToPredict,DataToUse,MaxWeek = np.max(WeeksToUse))\n",
    "        \n",
    "        if ToScale == 1:\n",
    "            X = scale(X)\n",
    "            Xt = scale(Xt)\n",
    "            oX = scale(oX)\n",
    "        \n",
    "        for n in NNToUse:\n",
    "            for weigs in [\"uniform\",\"distance\"]:\n",
    "            #for weigs in [\"uniform\"]:\n",
    "                for p in [2]:\n",
    "                #for p in range(1,5):\n",
    "                    \n",
    "                    neigh = KNeighborsRegressor(n_neighbors=n,weights=weigs,p=p)\n",
    "                    neigh.fit(Xt,Yt)\n",
    "\n",
    "                    Yp = neigh.predict(X)\n",
    "                    cor = np.corrcoef(Yp,Y)[0][1]\n",
    "\n",
    "                   \n",
    "\n",
    "                    \n",
    "                    \n",
    "                    dist = neigh.kneighbors(X)\n",
    "                    amean = []\n",
    "                    astd = []\n",
    "                    for di in dist[1]:\n",
    "                        amean.append(np.mean(Yt[di]))\n",
    "                        astd.append(np.std(Yt[di]))\n",
    "                    amean = np.array(amean)\n",
    "                    astd = np.array(astd)\n",
    "                    \n",
    "                    #Held out\n",
    "                    oYp = neigh.predict(oX)\n",
    "                    ocor = np.corrcoef(oYp,oY)[0][1]\n",
    "                    dist = neigh.kneighbors(oX)\n",
    "                    omean = []\n",
    "                    ostd = []\n",
    "                    for di in dist[1]:\n",
    "                        omean.append(np.mean(Yt[di]))\n",
    "                        ostd.append(np.std(Yt[di]))\n",
    "                    omean = np.array(omean)\n",
    "                    ostd = np.array(ostd)\n",
    "                    \n",
    "                    for risk in np.array(range(0,30))/10.0:\n",
    "                        c += 1\n",
    "                        AllPerformance[c] = dict()\n",
    "                        ModelReturn = np.mean(Y*((np.array(Yp) > 0) * 2 - 1)*((np.abs(amean)-astd*risk) > 0))\n",
    "                        if BestVal < ModelReturn:\n",
    "                            BestVal = ModelReturn\n",
    "                            print(ModelReturn,risk,np.sum((np.abs(amean)-astd*risk) > 0))\n",
    "                        AllPerformance[c][\"WeekInvest\"] = np.sum((np.abs(amean)-astd*risk) > 0)\n",
    "                        AllPerformance[c][\"weeks\"] = w\n",
    "                        AllPerformance[c][\"NN\"] = n\n",
    "                        AllPerformance[c][\"cor\"] = cor\n",
    "                        AllPerformance[c][\"ocor\"] = ocor\n",
    "                        AllPerformance[c][\"weights\"] = weigs\n",
    "                        AllPerformance[c][\"p\"] = p\n",
    "                        AllPerformance[c][\"scale\"] = ToScale\n",
    "                        AllPerformance[c][\"risk\"] = risk\n",
    "                        AllPerformance[c][\"datapoint\"] = len(Y)\n",
    "                        AlwaysBuy = np.mean(Y)\n",
    "                        AlwaysShort = np.mean(np.array(Y)*-1.0)\n",
    "                        AlwaysKnow = np.mean(np.abs(Y))\n",
    "\n",
    "                        AllPerformance[c][\"ModelReturn\"] = ModelReturn\n",
    "                        AllPerformance[c][\"AlwaysBuy\"] = AlwaysBuy\n",
    "                        \n",
    "                        ModelReturn = np.mean(oY*((np.array(oYp) > 0) * 2 - 1)*((np.abs(omean)-ostd*risk) > 0))\n",
    "                        AllPerformance[c][\"oModelReturn\"] = ModelReturn\n",
    "                        AlwaysBuy = np.mean(oY)\n",
    "                        AllPerformance[c][\"oAlwaysBuy\"] = AlwaysBuy\n",
    "                        AllPerformance[c][\"oDataPoint\"] = len(oY)\n",
    "                        AllPerformance[c][\"oBestReturn\"] = np.mean(np.abs(oY))\n",
    "                    \n",
    "\n",
    "\n",
    "\n",
    "                    "
   ]
  },
  {
   "cell_type": "code",
   "execution_count": 20,
   "metadata": {
    "collapsed": true
   },
   "outputs": [],
   "source": [
    "PerDF = pd.DataFrame(AllPerformance).transpose()"
   ]
  },
  {
   "cell_type": "code",
   "execution_count": 21,
   "metadata": {},
   "outputs": [
    {
     "data": {
      "text/html": [
       "<div>\n",
       "<style>\n",
       "    .dataframe thead tr:only-child th {\n",
       "        text-align: right;\n",
       "    }\n",
       "\n",
       "    .dataframe thead th {\n",
       "        text-align: left;\n",
       "    }\n",
       "\n",
       "    .dataframe tbody tr th {\n",
       "        vertical-align: top;\n",
       "    }\n",
       "</style>\n",
       "<table border=\"1\" class=\"dataframe\">\n",
       "  <thead>\n",
       "    <tr style=\"text-align: right;\">\n",
       "      <th></th>\n",
       "      <th>AlwaysBuy</th>\n",
       "      <th>ModelReturn</th>\n",
       "      <th>NN</th>\n",
       "      <th>WeekInvest</th>\n",
       "      <th>cor</th>\n",
       "      <th>datapoint</th>\n",
       "      <th>oAlwaysBuy</th>\n",
       "      <th>oBestReturn</th>\n",
       "      <th>oDataPoint</th>\n",
       "      <th>oModelReturn</th>\n",
       "      <th>ocor</th>\n",
       "      <th>p</th>\n",
       "      <th>risk</th>\n",
       "      <th>scale</th>\n",
       "      <th>weeks</th>\n",
       "      <th>weights</th>\n",
       "    </tr>\n",
       "  </thead>\n",
       "  <tbody>\n",
       "    <tr>\n",
       "      <th>10351</th>\n",
       "      <td>1.05401</td>\n",
       "      <td>1.85534</td>\n",
       "      <td>10</td>\n",
       "      <td>16</td>\n",
       "      <td>0.142376</td>\n",
       "      <td>16</td>\n",
       "      <td>0.581749</td>\n",
       "      <td>3.11037</td>\n",
       "      <td>64</td>\n",
       "      <td>0.544172</td>\n",
       "      <td>0.178481</td>\n",
       "      <td>2</td>\n",
       "      <td>0</td>\n",
       "      <td>1</td>\n",
       "      <td>4</td>\n",
       "      <td>distance</td>\n",
       "    </tr>\n",
       "    <tr>\n",
       "      <th>11461</th>\n",
       "      <td>1.05401</td>\n",
       "      <td>1.85534</td>\n",
       "      <td>10</td>\n",
       "      <td>16</td>\n",
       "      <td>0.322133</td>\n",
       "      <td>16</td>\n",
       "      <td>0.581749</td>\n",
       "      <td>3.11037</td>\n",
       "      <td>64</td>\n",
       "      <td>0.647057</td>\n",
       "      <td>0.159267</td>\n",
       "      <td>2</td>\n",
       "      <td>0</td>\n",
       "      <td>1</td>\n",
       "      <td>8</td>\n",
       "      <td>uniform</td>\n",
       "    </tr>\n",
       "    <tr>\n",
       "      <th>14071</th>\n",
       "      <td>1.05401</td>\n",
       "      <td>1.85534</td>\n",
       "      <td>35</td>\n",
       "      <td>16</td>\n",
       "      <td>0.189063</td>\n",
       "      <td>16</td>\n",
       "      <td>0.581749</td>\n",
       "      <td>3.11037</td>\n",
       "      <td>64</td>\n",
       "      <td>0.581749</td>\n",
       "      <td>0.0808686</td>\n",
       "      <td>2</td>\n",
       "      <td>0</td>\n",
       "      <td>1</td>\n",
       "      <td>16</td>\n",
       "      <td>distance</td>\n",
       "    </tr>\n",
       "    <tr>\n",
       "      <th>14041</th>\n",
       "      <td>1.05401</td>\n",
       "      <td>1.85534</td>\n",
       "      <td>35</td>\n",
       "      <td>16</td>\n",
       "      <td>0.203168</td>\n",
       "      <td>16</td>\n",
       "      <td>0.581749</td>\n",
       "      <td>3.11037</td>\n",
       "      <td>64</td>\n",
       "      <td>0.581749</td>\n",
       "      <td>0.0538434</td>\n",
       "      <td>2</td>\n",
       "      <td>0</td>\n",
       "      <td>1</td>\n",
       "      <td>16</td>\n",
       "      <td>uniform</td>\n",
       "    </tr>\n",
       "    <tr>\n",
       "      <th>11491</th>\n",
       "      <td>1.05401</td>\n",
       "      <td>1.85534</td>\n",
       "      <td>10</td>\n",
       "      <td>16</td>\n",
       "      <td>0.322938</td>\n",
       "      <td>16</td>\n",
       "      <td>0.581749</td>\n",
       "      <td>3.11037</td>\n",
       "      <td>64</td>\n",
       "      <td>0.647057</td>\n",
       "      <td>0.161082</td>\n",
       "      <td>2</td>\n",
       "      <td>0</td>\n",
       "      <td>1</td>\n",
       "      <td>8</td>\n",
       "      <td>distance</td>\n",
       "    </tr>\n",
       "    <tr>\n",
       "      <th>16081</th>\n",
       "      <td>1.05401</td>\n",
       "      <td>1.85534</td>\n",
       "      <td>15</td>\n",
       "      <td>16</td>\n",
       "      <td>0.287203</td>\n",
       "      <td>16</td>\n",
       "      <td>0.581749</td>\n",
       "      <td>3.11037</td>\n",
       "      <td>64</td>\n",
       "      <td>1.07864</td>\n",
       "      <td>0.316146</td>\n",
       "      <td>2</td>\n",
       "      <td>0</td>\n",
       "      <td>1</td>\n",
       "      <td>24</td>\n",
       "      <td>uniform</td>\n",
       "    </tr>\n",
       "    <tr>\n",
       "      <th>14011</th>\n",
       "      <td>1.05401</td>\n",
       "      <td>1.85534</td>\n",
       "      <td>30</td>\n",
       "      <td>16</td>\n",
       "      <td>0.0131167</td>\n",
       "      <td>16</td>\n",
       "      <td>0.581749</td>\n",
       "      <td>3.11037</td>\n",
       "      <td>64</td>\n",
       "      <td>0.32826</td>\n",
       "      <td>0.181067</td>\n",
       "      <td>2</td>\n",
       "      <td>0</td>\n",
       "      <td>1</td>\n",
       "      <td>16</td>\n",
       "      <td>distance</td>\n",
       "    </tr>\n",
       "    <tr>\n",
       "      <th>11581</th>\n",
       "      <td>1.05401</td>\n",
       "      <td>1.85534</td>\n",
       "      <td>20</td>\n",
       "      <td>16</td>\n",
       "      <td>0.194108</td>\n",
       "      <td>16</td>\n",
       "      <td>0.581749</td>\n",
       "      <td>3.11037</td>\n",
       "      <td>64</td>\n",
       "      <td>0.683543</td>\n",
       "      <td>0.142687</td>\n",
       "      <td>2</td>\n",
       "      <td>0</td>\n",
       "      <td>1</td>\n",
       "      <td>8</td>\n",
       "      <td>uniform</td>\n",
       "    </tr>\n",
       "    <tr>\n",
       "      <th>13981</th>\n",
       "      <td>1.05401</td>\n",
       "      <td>1.85534</td>\n",
       "      <td>30</td>\n",
       "      <td>16</td>\n",
       "      <td>0.023941</td>\n",
       "      <td>16</td>\n",
       "      <td>0.581749</td>\n",
       "      <td>3.11037</td>\n",
       "      <td>64</td>\n",
       "      <td>0.32826</td>\n",
       "      <td>0.163601</td>\n",
       "      <td>2</td>\n",
       "      <td>0</td>\n",
       "      <td>1</td>\n",
       "      <td>16</td>\n",
       "      <td>uniform</td>\n",
       "    </tr>\n",
       "    <tr>\n",
       "      <th>10441</th>\n",
       "      <td>1.05401</td>\n",
       "      <td>1.85534</td>\n",
       "      <td>20</td>\n",
       "      <td>16</td>\n",
       "      <td>0.0883038</td>\n",
       "      <td>16</td>\n",
       "      <td>0.581749</td>\n",
       "      <td>3.11037</td>\n",
       "      <td>64</td>\n",
       "      <td>0.451461</td>\n",
       "      <td>0.121391</td>\n",
       "      <td>2</td>\n",
       "      <td>0</td>\n",
       "      <td>1</td>\n",
       "      <td>4</td>\n",
       "      <td>uniform</td>\n",
       "    </tr>\n",
       "  </tbody>\n",
       "</table>\n",
       "</div>"
      ],
      "text/plain": [
       "      AlwaysBuy ModelReturn  NN WeekInvest        cor datapoint oAlwaysBuy  \\\n",
       "10351   1.05401     1.85534  10         16   0.142376        16   0.581749   \n",
       "11461   1.05401     1.85534  10         16   0.322133        16   0.581749   \n",
       "14071   1.05401     1.85534  35         16   0.189063        16   0.581749   \n",
       "14041   1.05401     1.85534  35         16   0.203168        16   0.581749   \n",
       "11491   1.05401     1.85534  10         16   0.322938        16   0.581749   \n",
       "16081   1.05401     1.85534  15         16   0.287203        16   0.581749   \n",
       "14011   1.05401     1.85534  30         16  0.0131167        16   0.581749   \n",
       "11581   1.05401     1.85534  20         16   0.194108        16   0.581749   \n",
       "13981   1.05401     1.85534  30         16   0.023941        16   0.581749   \n",
       "10441   1.05401     1.85534  20         16  0.0883038        16   0.581749   \n",
       "\n",
       "      oBestReturn oDataPoint oModelReturn       ocor  p risk scale weeks  \\\n",
       "10351     3.11037         64     0.544172   0.178481  2    0     1     4   \n",
       "11461     3.11037         64     0.647057   0.159267  2    0     1     8   \n",
       "14071     3.11037         64     0.581749  0.0808686  2    0     1    16   \n",
       "14041     3.11037         64     0.581749  0.0538434  2    0     1    16   \n",
       "11491     3.11037         64     0.647057   0.161082  2    0     1     8   \n",
       "16081     3.11037         64      1.07864   0.316146  2    0     1    24   \n",
       "14011     3.11037         64      0.32826   0.181067  2    0     1    16   \n",
       "11581     3.11037         64     0.683543   0.142687  2    0     1     8   \n",
       "13981     3.11037         64      0.32826   0.163601  2    0     1    16   \n",
       "10441     3.11037         64     0.451461   0.121391  2    0     1     4   \n",
       "\n",
       "        weights  \n",
       "10351  distance  \n",
       "11461   uniform  \n",
       "14071  distance  \n",
       "14041   uniform  \n",
       "11491  distance  \n",
       "16081   uniform  \n",
       "14011  distance  \n",
       "11581   uniform  \n",
       "13981   uniform  \n",
       "10441   uniform  "
      ]
     },
     "execution_count": 21,
     "metadata": {},
     "output_type": "execute_result"
    }
   ],
   "source": [
    "\n",
    "PerDF.sort_values(by=\"ModelReturn\",ascending=False).head(10)"
   ]
  },
  {
   "cell_type": "code",
   "execution_count": 22,
   "metadata": {},
   "outputs": [
    {
     "data": {
      "image/png": "[encoded data removed]",
      "text/plain": [
       "<matplotlib.figure.Figure at 0x7f1d44277190>"
      ]
     },
     "metadata": {},
     "output_type": "display_data"
    }
   ],
   "source": [
    "plt.scatter(PerDF[\"ModelReturn\"],PerDF[\"oModelReturn\"])\n",
    "cor= np.corrcoef(PerDF[\"ModelReturn\"].values.astype(float),PerDF[\"oModelReturn\"].values.astype(float))[0][1]\n",
    "plt.title(\"Cor=%.2f\" % cor)\n",
    "plt.xlabel(\"Training Return\")\n",
    "plt.ylabel(\"Testing Return\")\n",
    "plt.show()"
   ]
  },
  {
   "cell_type": "code",
   "execution_count": null,
   "metadata": {},
   "outputs": [],
   "source": []
  },
  {
   "cell_type": "code",
   "execution_count": null,
   "metadata": {},
   "outputs": [],
   "source": []
  },
  {
   "cell_type": "code",
   "execution_count": null,
   "metadata": {
    "collapsed": true
   },
   "outputs": [],
   "source": []
  }
 ],
 "metadata": {
  "kernelspec": {
   "display_name": "Python 2",
   "language": "python",
   "name": "python2"
  },
  "language_info": {
   "codemirror_mode": {
    "name": "ipython",
    "version": 2
   },
   "file_extension": ".py",
   "mimetype": "text/x-python",
   "name": "python",
   "nbconvert_exporter": "python",
   "pygments_lexer": "ipython2",
   "version": "2.7.13"
  }
 },
 "nbformat": 4,
 "nbformat_minor": 2
}
